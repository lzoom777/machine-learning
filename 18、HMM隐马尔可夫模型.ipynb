{
 "cells": [
  {
   "cell_type": "markdown",
   "metadata": {},
   "source": [
    "https://www.zhihu.com/question/20962240"
   ]
  },
  {
   "cell_type": "markdown",
   "metadata": {},
   "source": [
    "## 有三个色子，分别有4，6，8个面"
   ]
  },
  {
   "attachments": {},
   "cell_type": "markdown",
   "metadata": {},
   "source": [
    "![image.png](36.png)"
   ]
  },
  {
   "attachments": {},
   "cell_type": "markdown",
   "metadata": {},
   "source": [
    "![image.png](37.png)"
   ]
  },
  {
   "cell_type": "markdown",
   "metadata": {},
   "source": [
    "- 知道骰子有几种（隐含状态数量），每种骰子是什么（转换概率），根据掷骰子掷出的结果（可见状态链），我想知道每次掷出来的都是哪种骰子（隐含状态链）。预测算法\n",
    "- 还是知道骰子有几种（隐含状态数量），每种骰子是什么（转换概率），根据掷骰子掷出的结果（可见状态链），我想知道掷出这个结果的概率。估计算法\n",
    "- 知道骰子有几种（隐含状态数量），不知道每种骰子是什么（转换概率），观测到很多次掷骰子的结果（可见状态链），我想反推出每种骰子是什么（转换概率）。学习算法"
   ]
  },
  {
   "cell_type": "code",
   "execution_count": 74,
   "metadata": {},
   "outputs": [
    {
     "data": {
      "text/plain": [
       "0.10165999910911927"
      ]
     },
     "execution_count": 74,
     "metadata": {},
     "output_type": "execute_result"
    }
   ],
   "source": [
    "np.random.rand()"
   ]
  },
  {
   "cell_type": "code",
   "execution_count": 1,
   "metadata": {},
   "outputs": [
    {
     "data": {
      "text/plain": [
       "[0, 1, 0, 1, 1, 0, 1, 1, 1, 0]"
      ]
     },
     "execution_count": 1,
     "metadata": {},
     "output_type": "execute_result"
    }
   ],
   "source": [
    "#现在打算有4个盒子（隐含），首先等概率选择第一个盒子，抽红白球，转换概率到下一个盒子\n",
    "\n",
    "import numpy as np\n",
    "\n",
    "# 根据给定的概率分布随机返回数据\n",
    "#这个函数只生成一个数，在0，1，2，3中间选一个，按照p的分布概率选择落入的区间，确定数字，比如初始的，如果r随机为0.7，就选第三个\n",
    "def get_data_with_distribution(dist):  # dist是状态概率向量，即选盒子的各个概率，初始的是4个0.25\n",
    "    r = np.random.rand() #“0~1”均匀分布的随机样本值，如0.1\n",
    "    for i, p in enumerate(dist): # i是1，2，3，4\n",
    "        if r < p: #如果0.1<0.25，\n",
    "            return i #返回0.25\n",
    "        r -= p #如果r=0.8，r-0.25\n",
    "        \n",
    "def generate(T):\n",
    "    '''\n",
    "    根据给定的参数生成观测序列\n",
    "    T: 指定要生成数据的数量\n",
    "    '''\n",
    "    # 根据初始概率分布生成第一个状态\n",
    "    z = get_data_with_distribution(pi) #0，1，2，3\n",
    "    # 生成第一个观测数据\n",
    "    x = get_data_with_distribution(B[z])  #选中了第z个球\n",
    "    result = [x] # 结果是红球还是白球\n",
    "    # 遍历生成余下的状态和观测数据\n",
    "    for _ in range(T-1):        \n",
    "        z = get_data_with_distribution(A[z]) #从第z个球往下个球转移\n",
    "        x = get_data_with_distribution(B[z])\n",
    "        result.append(x)\n",
    "    return result\n",
    "\n",
    "### 盒子和球相关的模型参数\n",
    "# 初始状态概率向量\n",
    "pi = np.array([0.25, 0.25, 0.25, 0.25])\n",
    "\n",
    "# 状态转移概率矩阵\n",
    "A = np.array([\n",
    "    [0,  1,  0, 0],\n",
    "    [.4, 0, .6, 0],\n",
    "    [0, .4, 0, .6],\n",
    "    [0, 0, .5, .5]])\n",
    "\n",
    "# 观测概率矩阵 #每个盒子摸红白球的概率\n",
    "B = np.array([\n",
    "    [0.5, 0.5],\n",
    "    [0.3, 0.7],\n",
    "    [0.6, 0.4],\n",
    "    [0.8, 0.2]])\n",
    "\n",
    "# 生成10个数据\n",
    "generate(10)"
   ]
  },
  {
   "cell_type": "code",
   "execution_count": 2,
   "metadata": {},
   "outputs": [
    {
     "name": "stdout",
     "output_type": "stream",
     "text": [
      "[1, 0, 1, 2, 3]\n"
     ]
    }
   ],
   "source": [
    "def viterbi_decode(X):\n",
    "    T, x = len(X), X[0]\n",
    "    # 初始化\n",
    "    delta = pi * B[:,x]\n",
    "    varphi = np.zeros((T, N), dtype=int)\n",
    "    path = [0] * T\n",
    "    # 递推\n",
    "    for i in range(1, T):\n",
    "        delta = delta.reshape(-1,1)     \n",
    "        tmp = delta * A\n",
    "        varphi[i,:] = np.argmax(tmp, axis=0)\n",
    "        delta = np.max(tmp, axis=0) * B[:,X[i]]\n",
    "    # 终止\n",
    "    path[-1] = np.argmax(delta)\n",
    "    # 最优路径回溯\n",
    "    for i in range(T-1,0,-1):\n",
    "        path[i-1] = varphi[i,path[i]]\n",
    "    return path\n",
    "\n",
    "X = [1,0,1,0,0] #出现的红白球结果\n",
    "N = 4\n",
    "print(viterbi_decode(X)) #预测每次是哪个盒子，A和B都用了，如果是为了预测A就是学习算法"
   ]
  },
  {
   "cell_type": "code",
   "execution_count": null,
   "metadata": {},
   "outputs": [],
   "source": []
  }
 ],
 "metadata": {
  "kernelspec": {
   "display_name": "Python 3",
   "language": "python",
   "name": "python3"
  },
  "language_info": {
   "codemirror_mode": {
    "name": "ipython",
    "version": 3
   },
   "file_extension": ".py",
   "mimetype": "text/x-python",
   "name": "python",
   "nbconvert_exporter": "python",
   "pygments_lexer": "ipython3",
   "version": "3.7.6"
  }
 },
 "nbformat": 4,
 "nbformat_minor": 4
}
