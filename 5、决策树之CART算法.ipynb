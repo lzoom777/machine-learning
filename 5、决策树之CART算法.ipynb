{
 "cells": [
  {
   "cell_type": "markdown",
   "metadata": {},
   "source": [
    "## CART概述\n",
    "      所谓CART算法，全名叫Classification and Regression Tree，即分类与回归树。顾名思义，相较于此前的ID3算法和C4.5算法，CART除了可以用于分类任务外，还可以完成回归分析。完整的CART算法包括特征选择、决策树生成和决策树剪枝三个部分。\n"
   ]
  },
  {
   "cell_type": "markdown",
   "metadata": {},
   "source": [
    "CART算法主要包括回归树和分类树两种。回归树用于目标变量为连续型的建模任务，其特征选择准则用的是**平方误差最小准则**。分类树用于目标变量为离散型的的建模任务，其特征选择准则用的是**基尼指数(Gini Index)**，这也有别于此前ID3的信息增益准则和C4.5的信息增益比准则。无论是回归树还是分类树，其算法核心都在于递归地选择最优特征构建决策树。"
   ]
  },
  {
   "cell_type": "markdown",
   "metadata": {},
   "source": [
    "### 回归树"
   ]
  },
  {
   "cell_type": "markdown",
   "metadata": {},
   "source": [
    "在构建CART树的时候，我们遍历所有特征的所有取值 ——以这个特征的这个取值为分割依据、得到两组样本 ，然后计算对这两组样本的预测误差。遍历完毕后，选取预测误差最小的那一个特征的取值 。\n",
    "\n",
    "为了使MSE最小，一般以一组样本的输出值的均值作为预测值"
   ]
  },
  {
   "cell_type": "markdown",
   "metadata": {},
   "source": [
    "https://zhuanlan.zhihu.com/p/82054400"
   ]
  },
  {
   "attachments": {},
   "cell_type": "markdown",
   "metadata": {},
   "source": [
    "![image.png](6.png)"
   ]
  },
  {
   "cell_type": "markdown",
   "metadata": {},
   "source": [
    "### 分类树"
   ]
  },
  {
   "attachments": {},
   "cell_type": "markdown",
   "metadata": {},
   "source": [
    "Gini指数是针对概率分布而言的。假设在一个分类问题中有K个类，样本属于第k个类的概率为Pk，则该样本概率分布的基尼指数为\n",
    "![image.png](7.png)"
   ]
  },
  {
   "attachments": {},
   "cell_type": "markdown",
   "metadata": {},
   "source": [
    "![image.png](8.png)"
   ]
  },
  {
   "attachments": {},
   "cell_type": "markdown",
   "metadata": {},
   "source": [
    "![image.png](9.png)"
   ]
  },
  {
   "cell_type": "markdown",
   "metadata": {},
   "source": [
    "#### 剪枝\n",
    " 通常来说，有两种剪枝方法。一种是在决策树生成过程中进行剪枝，也叫预剪枝(pre-pruning)。另一种就是前面说的基于生成好的决策树自底向上的进行剪枝，又叫后剪枝(post-pruning)。"
   ]
  },
  {
   "cell_type": "code",
   "execution_count": 1,
   "metadata": {},
   "outputs": [],
   "source": [
    "def gini(nums):\n",
    "    probs = [nums.count(i)/len(nums) for i in set(nums)]\n",
    "    gini = sum([p*(1-p) for p in probs]) \n",
    "    return gini"
   ]
  },
  {
   "cell_type": "code",
   "execution_count": 3,
   "metadata": {},
   "outputs": [
    {
     "data": {
      "text/plain": [
       "0.4591836734693877"
      ]
     },
     "execution_count": 3,
     "metadata": {},
     "output_type": "execute_result"
    }
   ],
   "source": [
    "import pandas as pd\n",
    "df = pd.read_csv('./example_data.csv', dtype={'windy': 'str'})\n",
    "gini(df['play'].tolist())"
   ]
  },
  {
   "cell_type": "code",
   "execution_count": 4,
   "metadata": {},
   "outputs": [],
   "source": [
    "def split_dataframe(data, col):\n",
    "    '''\n",
    "    function: split pandas dataframe to sub-df based on data and column.\n",
    "    input: dataframe, column name.\n",
    "    output: a dict of splited dataframe.\n",
    "    '''\n",
    "    # unique value of column\n",
    "    unique_values = data[col].unique()    \n",
    "    # empty dict of dataframe\n",
    "\n",
    "    result_dict = {elem : pd.DataFrame for elem in unique_values}    \n",
    "    # split dataframe based on column value\n",
    "\n",
    "    for key in result_dict.keys():\n",
    "        result_dict[key] = data[:][data[col] == key]    \n",
    "    return result_dict"
   ]
  },
  {
   "cell_type": "code",
   "execution_count": 7,
   "metadata": {},
   "outputs": [
    {
     "data": {
      "text/plain": [
       "{'hot':    humility   outlook play temp  windy\n",
       " 0      high     sunny   no  hot  false\n",
       " 1      high     sunny   no  hot   true\n",
       " 2      high  overcast  yes  hot  false\n",
       " 12   normal  overcast  yes  hot  false,\n",
       " 'mild':    humility   outlook play  temp  windy\n",
       " 3      high     rainy  yes  mild  false\n",
       " 7      high     sunny   no  mild  false\n",
       " 9    normal     rainy  yes  mild  false\n",
       " 10   normal     sunny  yes  mild   true\n",
       " 11     high  overcast  yes  mild   true\n",
       " 13     high     rainy   no  mild   true,\n",
       " 'cool':   humility   outlook play  temp  windy\n",
       " 4   normal     rainy  yes  cool  false\n",
       " 5   normal     rainy   no  cool   true\n",
       " 6   normal  overcast  yes  cool   true\n",
       " 8   normal     sunny  yes  cool  false}"
      ]
     },
     "execution_count": 7,
     "metadata": {},
     "output_type": "execute_result"
    }
   ],
   "source": [
    "split_dataframe(df, 'temp')"
   ]
  },
  {
   "cell_type": "code",
   "execution_count": 8,
   "metadata": {},
   "outputs": [],
   "source": [
    "def choose_best_col(df, label):\n",
    "    '''\n",
    "    funtion: choose the best column based on infomation gain.\n",
    "    input: datafram, label\n",
    "    output: max infomation gain, best column, \n",
    "            splited dataframe dict based on best column.\n",
    "    '''\n",
    "    # Calculating label's gini index\n",
    "    gini_D = gini(df[label].tolist())    \n",
    "    # columns list except label\n",
    "\n",
    "    cols = [col for col in df.columns if col not in [label]]    \n",
    "    # initialize the max infomation gain, best column and best splited dict\n",
    "\n",
    "    min_value, best_col = 999, None\n",
    "    min_splited = None\n",
    "    # split data based on different column\n",
    "    for col in cols:\n",
    "        splited_set = split_dataframe(df, col)\n",
    "        gini_DA = 0\n",
    "        for subset_col, subset in splited_set.items():            \n",
    "        # calculating splited dataframe label's gini index\n",
    "\n",
    "            gini_Di = gini(subset[label].tolist())            \n",
    "            # calculating gini index of current feature\n",
    "\n",
    "            gini_DA += len(subset)/len(df) * gini_Di        \n",
    "            if gini_DA < min_value:\n",
    "\n",
    "                min_value, best_col = gini_DA, col\n",
    "                min_splited = splited_set    \n",
    "            return min_value, best_col, min_splited"
   ]
  },
  {
   "cell_type": "code",
   "execution_count": 9,
   "metadata": {},
   "outputs": [
    {
     "data": {
      "text/plain": [
       "(0.24489795918367346,\n",
       " 'humility',\n",
       " {'high':    humility   outlook play  temp  windy\n",
       "  0      high     sunny   no   hot  false\n",
       "  1      high     sunny   no   hot   true\n",
       "  2      high  overcast  yes   hot  false\n",
       "  3      high     rainy  yes  mild  false\n",
       "  7      high     sunny   no  mild  false\n",
       "  11     high  overcast  yes  mild   true\n",
       "  13     high     rainy   no  mild   true,\n",
       "  'normal':    humility   outlook play  temp  windy\n",
       "  4    normal     rainy  yes  cool  false\n",
       "  5    normal     rainy   no  cool   true\n",
       "  6    normal  overcast  yes  cool   true\n",
       "  8    normal     sunny  yes  cool  false\n",
       "  9    normal     rainy  yes  mild  false\n",
       "  10   normal     sunny  yes  mild   true\n",
       "  12   normal  overcast  yes   hot  false})"
      ]
     },
     "execution_count": 9,
     "metadata": {},
     "output_type": "execute_result"
    }
   ],
   "source": [
    "choose_best_col(df,'temp') #temp为y的话先选到特征humodity"
   ]
  },
  {
   "cell_type": "code",
   "execution_count": null,
   "metadata": {},
   "outputs": [],
   "source": []
  }
 ],
 "metadata": {
  "kernelspec": {
   "display_name": "Python 3",
   "language": "python",
   "name": "python3"
  },
  "language_info": {
   "codemirror_mode": {
    "name": "ipython",
    "version": 3
   },
   "file_extension": ".py",
   "mimetype": "text/x-python",
   "name": "python",
   "nbconvert_exporter": "python",
   "pygments_lexer": "ipython3",
   "version": "3.7.6"
  }
 },
 "nbformat": 4,
 "nbformat_minor": 4
}
