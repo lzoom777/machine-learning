{
 "cells": [
  {
   "cell_type": "markdown",
   "metadata": {},
   "source": [
    "区别于感知器的地方在于**间隔最大化**"
   ]
  },
  {
   "cell_type": "markdown",
   "metadata": {},
   "source": [
    "线性可分支持向量机可被形式化一个凸二次规划问题："
   ]
  },
  {
   "attachments": {},
   "cell_type": "markdown",
   "metadata": {},
   "source": [
    "![image.png](14.png)"
   ]
  },
  {
   "cell_type": "markdown",
   "metadata": {},
   "source": [
    "求得原始问题的解为："
   ]
  },
  {
   "attachments": {},
   "cell_type": "markdown",
   "metadata": {},
   "source": [
    "![image.png](15.png)"
   ]
  },
  {
   "cell_type": "code",
   "execution_count": 2,
   "metadata": {},
   "outputs": [],
   "source": [
    "import numpy as np\n",
    "import matplotlib.pyplot as plt"
   ]
  },
  {
   "cell_type": "code",
   "execution_count": 8,
   "metadata": {},
   "outputs": [],
   "source": [
    "data_dict = {-1:np.array([[1,7],\n",
    "                          [2,8],\n",
    "                          [3,8],]),\n",
    "             \n",
    "             1:np.array([[5,1],\n",
    "                         [6,-1],\n",
    "                         [7,3],])}"
   ]
  },
  {
   "cell_type": "code",
   "execution_count": 4,
   "metadata": {},
   "outputs": [
    {
     "data": {
      "image/png": "[encoded data removed]",
      "text/plain": [
       "<Figure size 432x288 with 1 Axes>"
      ]
     },
     "metadata": {
      "needs_background": "light"
     },
     "output_type": "display_data"
    }
   ],
   "source": [
    "colors = {1:'r',-1:'g'}\n",
    "fig = plt.figure()\n",
    "ax = fig.add_subplot(1,1,1)\n",
    "[[ax.scatter(x[0],x[1],s=100,color=colors[i]) \n",
    "       for x in data_dict[i]] for i in data_dict]\n",
    "plt.show()"
   ]
  },
  {
   "cell_type": "code",
   "execution_count": 6,
   "metadata": {},
   "outputs": [
    {
     "name": "stdout",
     "output_type": "stream",
     "text": [
      "yi: -1\n",
      "featureset: [1 7]\n",
      "feature: 1\n",
      "feature: 7\n",
      "featureset: [2 8]\n",
      "feature: 2\n",
      "feature: 8\n",
      "featureset: [3 8]\n",
      "feature: 3\n",
      "feature: 8\n",
      "yi: 1\n",
      "featureset: [5 1]\n",
      "feature: 5\n",
      "feature: 1\n",
      "featureset: [ 6 -1]\n",
      "feature: 6\n",
      "feature: -1\n",
      "featureset: [7 3]\n",
      "feature: 7\n",
      "feature: 3\n"
     ]
    },
    {
     "data": {
      "text/plain": [
       "[1, 7, 2, 8, 3, 8, 5, 1, 6, -1, 7, 3]"
      ]
     },
     "execution_count": 6,
     "metadata": {},
     "output_type": "execute_result"
    }
   ],
   "source": [
    "all_data = []\n",
    "for yi in data_dict:\n",
    "    print('yi:', yi)\n",
    "    for featureset in data_dict[yi]:\n",
    "        print('featureset:', featureset)\n",
    "        for feature in featureset:\n",
    "            print('feature:', feature)\n",
    "            all_data.append(feature)         \n",
    "all_data"
   ]
  },
  {
   "cell_type": "code",
   "execution_count": 7,
   "metadata": {},
   "outputs": [
    {
     "name": "stdout",
     "output_type": "stream",
     "text": [
      "8 -1\n"
     ]
    }
   ],
   "source": [
    "max_feature_value = max(all_data)\n",
    "min_feature_value = min(all_data)\n",
    "print(max_feature_value, min_feature_value)"
   ]
  },
  {
   "cell_type": "code",
   "execution_count": 9,
   "metadata": {},
   "outputs": [],
   "source": [
    "data  = data_dict"
   ]
  },
  {
   "cell_type": "code",
   "execution_count": 14,
   "metadata": {},
   "outputs": [],
   "source": [
    "# 参数字典 { ||w||: [w,b] }\n",
    "opt_dict = {}\n",
    "\n",
    "# 数据转换列表\n",
    "transforms = [[1,1],\n",
    "              [-1,1],\n",
    "              [-1,-1],\n",
    "              [1,-1]]\n",
    "\n",
    "# 从字典中获取所有数据\n",
    "all_data = []\n",
    "for yi in data:\n",
    "    for featureset in data[yi]:\n",
    "        for feature in featureset:\n",
    "            all_data.append(feature)"
   ]
  },
  {
   "cell_type": "code",
   "execution_count": 29,
   "metadata": {},
   "outputs": [
    {
     "name": "stdout",
     "output_type": "stream",
     "text": [
      "[80 80]\n",
      "[-80  80]\n",
      "[-80 -80]\n",
      "[ 80 -80]\n"
     ]
    }
   ],
   "source": [
    "w = np.array([latest_optimum,latest_optimum]) #[80, 80]\n",
    "for transformation in transforms:\n",
    "     print(w*transformation)"
   ]
  },
  {
   "cell_type": "code",
   "execution_count": 15,
   "metadata": {},
   "outputs": [
    {
     "data": {
      "text/plain": [
       "[1, 7, 2, 8, 3, 8, 5, 1, 6, -1, 7, 3]"
      ]
     },
     "execution_count": 15,
     "metadata": {},
     "output_type": "execute_result"
    }
   ],
   "source": [
    "all_data"
   ]
  },
  {
   "cell_type": "code",
   "execution_count": 16,
   "metadata": {},
   "outputs": [],
   "source": [
    "max_feature_value = max(all_data)\n",
    "min_feature_value = min(all_data)\n",
    "all_data = None"
   ]
  },
  {
   "cell_type": "code",
   "execution_count": 17,
   "metadata": {},
   "outputs": [],
   "source": [
    "step_sizes = [max_feature_value * 0.1,\n",
    "              max_feature_value * 0.01,\n",
    "              max_feature_value * 0.001\n",
    "              ]"
   ]
  },
  {
   "cell_type": "code",
   "execution_count": 18,
   "metadata": {},
   "outputs": [
    {
     "data": {
      "text/plain": [
       "[0.8, 0.08, 0.008]"
      ]
     },
     "execution_count": 18,
     "metadata": {},
     "output_type": "execute_result"
    }
   ],
   "source": [
    "step_sizes"
   ]
  },
  {
   "cell_type": "code",
   "execution_count": 19,
   "metadata": {},
   "outputs": [],
   "source": [
    "# 参数b的范围设置\n",
    "b_range_multiple = 2\n",
    "b_multiple = 5\n",
    "latest_optimum = max_feature_value*10"
   ]
  },
  {
   "cell_type": "code",
   "execution_count": 20,
   "metadata": {},
   "outputs": [
    {
     "data": {
      "text/plain": [
       "80"
      ]
     },
     "execution_count": 20,
     "metadata": {},
     "output_type": "execute_result"
    }
   ],
   "source": [
    "latest_optimum"
   ]
  },
  {
   "cell_type": "code",
   "execution_count": 26,
   "metadata": {},
   "outputs": [
    {
     "name": "stdout",
     "output_type": "stream",
     "text": [
      "-16.0\n",
      "-12.0\n",
      "-8.0\n",
      "-4.0\n",
      "0.0\n",
      "4.0\n",
      "8.0\n",
      "12.0\n"
     ]
    }
   ],
   "source": [
    "for b in np.arange(-1*(max_feature_value*b_range_multiple),\n",
    "                               max_feature_value*b_range_multiple,\n",
    "                               0.8*b_multiple):\n",
    "    print(b)"
   ]
  },
  {
   "cell_type": "code",
   "execution_count": 34,
   "metadata": {},
   "outputs": [
    {
     "name": "stdout",
     "output_type": "stream",
     "text": [
      "[ 0.232 -0.232]\n"
     ]
    },
    {
     "data": {
      "text/plain": [
       "[1, -1]"
      ]
     },
     "execution_count": 34,
     "metadata": {},
     "output_type": "execute_result"
    }
   ],
   "source": [
    "b = -16\n",
    "print(w)\n",
    "transformation"
   ]
  },
  {
   "cell_type": "code",
   "execution_count": 33,
   "metadata": {},
   "outputs": [
    {
     "data": {
      "text/plain": [
       "array([ 80, -80])"
      ]
     },
     "execution_count": 33,
     "metadata": {},
     "output_type": "execute_result"
    }
   ],
   "source": [
    "w_t"
   ]
  },
  {
   "cell_type": "code",
   "execution_count": 32,
   "metadata": {},
   "outputs": [
    {
     "name": "stdout",
     "output_type": "stream",
     "text": [
      "Optimized a step!\n",
      "Optimized a step!\n",
      "Optimized a step!\n",
      "[1 7] : 1.271999999999435\n",
      "[2 8] : 1.271999999999435\n",
      "[3 8] : 1.0399999999995864\n",
      "[5 1] : 1.0479999999990506\n",
      "[ 6 -1] : 1.7439999999985962\n",
      "[7 3] : 1.0479999999990506\n"
     ]
    }
   ],
   "source": [
    "def train(data):\n",
    "    # 参数字典 { ||w||: [w,b] }\n",
    "    opt_dict = {}\n",
    "\n",
    "    # 数据转换列表\n",
    "    transforms = [[1,1],\n",
    "                  [-1,1],\n",
    "                  [-1,-1],\n",
    "                  [1,-1]]\n",
    "\n",
    "    # 从字典中获取所有数据\n",
    "    all_data = []\n",
    "    for yi in data:\n",
    "        for featureset in data[yi]:\n",
    "            for feature in featureset:\n",
    "                all_data.append(feature)\n",
    "\n",
    "    # 获取数据最大最小值\n",
    "    max_feature_value = max(all_data)\n",
    "    min_feature_value = min(all_data)\n",
    "    all_data = None\n",
    "\n",
    "    # 定义一个长列表\n",
    "    step_sizes = [max_feature_value * 0.1,\n",
    "                  max_feature_value * 0.01,\n",
    "                  max_feature_value * 0.001\n",
    "                  ]\n",
    "\n",
    "\n",
    "    # 参数b的范围设置\n",
    "    b_range_multiple = 2\n",
    "    b_multiple = 5\n",
    "    latest_optimum = max_feature_value*10\n",
    "\n",
    "    # 基于不同步长训练优化\n",
    "    for step in step_sizes: #步长从大到小优化\n",
    "        w = np.array([latest_optimum,latest_optimum]) #[80, 80]\n",
    "        # 凸优化\n",
    "        optimized = False #优化完成判断器\n",
    "        while not optimized:\n",
    "            for b in np.arange(-1*(max_feature_value*b_range_multiple),\n",
    "                               max_feature_value*b_range_multiple,\n",
    "                               step*b_multiple): # 先从稀疏的间隔搜寻\n",
    "                for transformation in transforms: # 系数的正负搜索，因为初始设置的是正数\n",
    "                    w_t = w * transformation\n",
    "                    found_option = True\n",
    "\n",
    "                    for i in data:\n",
    "                        for xi in data[i]:\n",
    "                            yi=i\n",
    "                            if not yi*(np.dot(w_t,xi)+b) >= 1: \n",
    "                                #if not 表示后面为false时通过,这里只有所有的都>=1时才满足条件，进入下一步选最大间隔\n",
    "                                found_option = False\n",
    "                                # print(xi,':',yi*(np.dot(w_t,xi)+b))\n",
    "\n",
    "                    if found_option:\n",
    "                        opt_dict[np.linalg.norm(w_t)] = [w_t,b] #将通过的参数加入备选名单\n",
    "                        #np.linalg.norm(求范数)\n",
    "\n",
    "            if w[0] < 0:\n",
    "                optimized = True\n",
    "                print('Optimized a step!')\n",
    "            else:\n",
    "                w = w - step\n",
    "\n",
    "        norms = sorted([n for n in opt_dict]) #\n",
    "        #||w|| : [w,b]\n",
    "        opt_choice = opt_dict[norms[0]] #找到使得w平方和最小时的参数\n",
    "        w = opt_choice[0]\n",
    "        b = opt_choice[1] #获取最优参数\n",
    "        latest_optimum = opt_choice[0][0]+step*2 #缩小范围，在更小的step里搜索\n",
    "\n",
    "    for i in data:\n",
    "        for xi in data[i]:\n",
    "            yi=i\n",
    "            print(xi,':',yi*(np.dot(w,xi)+b)) \n",
    "    return w, b\n",
    "            \n",
    "    \n",
    "w, b = train(data_dict)\n",
    "# 基本上都是刚好大于1"
   ]
  },
  {
   "cell_type": "code",
   "execution_count": null,
   "metadata": {},
   "outputs": [],
   "source": []
  },
  {
   "cell_type": "code",
   "execution_count": null,
   "metadata": {},
   "outputs": [],
   "source": []
  },
  {
   "cell_type": "code",
   "execution_count": null,
   "metadata": {},
   "outputs": [],
   "source": []
  },
  {
   "cell_type": "code",
   "execution_count": 5,
   "metadata": {},
   "outputs": [],
   "source": [
    "def train(data):\n",
    "    # 参数字典 { ||w||: [w,b] }\n",
    "    opt_dict = {}\n",
    "    # 数据转换列表\n",
    "    transforms =  [[1,1],          \n",
    "                  [-1,1],\n",
    "                  [-1,-1],\n",
    "                  [1,-1]]\n",
    "    # 从字典中获取所有数据\n",
    "    all_data = []\n",
    "    for yi in data:\n",
    "        for featureset in data[yi]:\n",
    "            for feature in featureset:\n",
    "                all_data.append(feature)\n",
    "\n",
    "    # 获取数据最大最小值\n",
    "    max_feature_value = max(all_data)\n",
    "    min_feature_value = min(all_data)\n",
    "    all_data = None\n",
    "\n",
    "    # 定义一个步长列表\n",
    "    step_sizes = [max_feature_value * 0.1,\n",
    "                  max_feature_value * 0.01,\n",
    "                  max_feature_value * 0.001\n",
    "                  ]\n",
    "\n",
    "    # 参数b的范围设置\n",
    "    b_range_multiple = 2\n",
    "    b_multiple = 5\n",
    "    latest_optimum = max_feature_value*10\n",
    "\n",
    "    # 基于不同步长训练优化\n",
    "    for step in step_sizes:\n",
    "        w = np.array([latest_optimum,latest_optimum])\n",
    "        # 凸优化\n",
    "        optimized = False\n",
    "        while not optimized:\n",
    "            for b in np.arange(-1*(max_feature_value*b_range_multiple),\n",
    "                               max_feature_value*b_range_multiple,\n",
    "                               step*b_multiple):\n",
    "                for transformation in transforms:\n",
    "                    w_t = w*transformation\n",
    "                    found_option = True\n",
    "\n",
    "                    for i in data:\n",
    "                        for xi in data[i]:\n",
    "                            yi=i\n",
    "                            if not yi*(np.dot(w_t,xi)+b) >= 1:\n",
    "                                found_option = False\n",
    "                                \n",
    "                    if found_option:\n",
    "                         opt_dict[np.linalg.norm(w_t)] = [w_t,b]\n",
    "            if w[0] < 0:\n",
    "                optimized = True\n",
    "                print('Optimized a step!')\n",
    "            else:\n",
    "                w = w - step\n",
    "        norms = sorted([n for n in opt_dict])\n",
    "        #||w|| : [w,b]\n",
    "        opt_choice = opt_dict[norms[0]]\n",
    "        w = opt_choice[0]\n",
    "        b = opt_choice[1]\n",
    "        latest_optimum = opt_choice[0][0]+step*2\n",
    "\n",
    "    for i in data:\n",
    "        for xi in data[i]:\n",
    "            yi=i\n",
    "            print(xi,':',yi*(np.dot(w,xi)+b))\n",
    "    return w, b"
   ]
  },
  {
   "cell_type": "code",
   "execution_count": null,
   "metadata": {},
   "outputs": [],
   "source": []
  }
 ],
 "metadata": {
  "kernelspec": {
   "display_name": "Python 3",
   "language": "python",
   "name": "python3"
  },
  "language_info": {
   "codemirror_mode": {
    "name": "ipython",
    "version": 3
   },
   "file_extension": ".py",
   "mimetype": "text/x-python",
   "name": "python",
   "nbconvert_exporter": "python",
   "pygments_lexer": "ipython3",
   "version": "3.7.6"
  }
 },
 "nbformat": 4,
 "nbformat_minor": 4
}
