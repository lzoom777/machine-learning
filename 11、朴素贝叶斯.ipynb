{
 "cells": [
  {
   "cell_type": "markdown",
   "metadata": {},
   "source": [
    " <font size=3>简单而言，对于给定的训练数据，朴素贝叶斯先基于特征条件独立假设学习输入和输出的联合概率分布，然后基于此分布对于新的实例，利用贝叶斯定理计算出最大的后验概率。朴素贝叶斯不会直接学习输入输出的联合概率分布，而是通过学习**类的先验概率和类条件概率来完成**。"
   ]
  },
  {
   "cell_type": "markdown",
   "metadata": {},
   "source": [
    "<font size=3>$p(不帅、性格不好、身高矮、不上进|嫁) = p(不帅|嫁)*p(性格不好|嫁)*p(身高矮|嫁)*p(不上进|嫁)$，那么我就要分别统计后面几个概率，也就得到了左边的概率！等等，为什么这个成立呢？学过概率论的同学可能有感觉了，这个等式成立的条件需要**特征之间相互独立**吧！对的！这也就是为什么朴素贝叶斯分类有**朴素**一词的来源，朴素贝叶斯算法是假设各个特征之间相互独立，那么这个等式就成立了！"
   ]
  },
  {
   "attachments": {
    "image.png": {
     "image/png": "[encoded data removed]"
    }
   },
   "cell_type": "markdown",
   "metadata": {},
   "source": [
    "![image.png](attachment:image.png)"
   ]
  },
  {
   "cell_type": "markdown",
   "metadata": {},
   "source": [
    "<font size = 3>最后给定新的实例，计算其对应的最大后验概率，然后判断其所属的类别："
   ]
  },
  {
   "attachments": {
    "image.png": {
     "image/png": "[encoded data removed]"
    }
   },
   "cell_type": "markdown",
   "metadata": {},
   "source": [
    "![image.png](attachment:image.png)"
   ]
  },
  {
   "cell_type": "markdown",
   "metadata": {},
   "source": [
    "<font size=3>优点：（1） 算法逻辑简单,易于实现 （2）分类过程中时空开销小缺点：\n",
    "    \n",
    "理论上，朴素贝叶斯模型与其他分类方法相比具有最小的误差率。但是实际上并非总是如此，这是因为朴素贝叶斯模型假设属性之间相互独立，这个假设在实际应用中往往是不成立的，在属性个数比较多或者属性之间相关性较大时，分类效果不好。\n"
   ]
  },
  {
   "cell_type": "code",
   "execution_count": 1,
   "metadata": {},
   "outputs": [],
   "source": [
    "import numpy as np\n",
    "import pandas as pd"
   ]
  },
  {
   "cell_type": "code",
   "execution_count": 2,
   "metadata": {},
   "outputs": [
    {
     "data": {
      "text/html": [
       "<div>\n",
       "<style scoped>\n",
       "    .dataframe tbody tr th:only-of-type {\n",
       "        vertical-align: middle;\n",
       "    }\n",
       "\n",
       "    .dataframe tbody tr th {\n",
       "        vertical-align: top;\n",
       "    }\n",
       "\n",
       "    .dataframe thead th {\n",
       "        text-align: right;\n",
       "    }\n",
       "</style>\n",
       "<table border=\"1\" class=\"dataframe\">\n",
       "  <thead>\n",
       "    <tr style=\"text-align: right;\">\n",
       "      <th></th>\n",
       "      <th>x1</th>\n",
       "      <th>x2</th>\n",
       "      <th>y</th>\n",
       "    </tr>\n",
       "  </thead>\n",
       "  <tbody>\n",
       "    <tr>\n",
       "      <th>0</th>\n",
       "      <td>1</td>\n",
       "      <td>S</td>\n",
       "      <td>-1</td>\n",
       "    </tr>\n",
       "    <tr>\n",
       "      <th>1</th>\n",
       "      <td>1</td>\n",
       "      <td>M</td>\n",
       "      <td>-1</td>\n",
       "    </tr>\n",
       "    <tr>\n",
       "      <th>2</th>\n",
       "      <td>1</td>\n",
       "      <td>M</td>\n",
       "      <td>1</td>\n",
       "    </tr>\n",
       "    <tr>\n",
       "      <th>3</th>\n",
       "      <td>1</td>\n",
       "      <td>S</td>\n",
       "      <td>1</td>\n",
       "    </tr>\n",
       "    <tr>\n",
       "      <th>4</th>\n",
       "      <td>1</td>\n",
       "      <td>S</td>\n",
       "      <td>-1</td>\n",
       "    </tr>\n",
       "  </tbody>\n",
       "</table>\n",
       "</div>"
      ],
      "text/plain": [
       "   x1 x2  y\n",
       "0   1  S -1\n",
       "1   1  M -1\n",
       "2   1  M  1\n",
       "3   1  S  1\n",
       "4   1  S -1"
      ]
     },
     "execution_count": 2,
     "metadata": {},
     "output_type": "execute_result"
    }
   ],
   "source": [
    "\n",
    "x1 = [1,1,1,1,1,2,2,2,2,2,3,3,3,3,3]\n",
    "x2 = ['S','M','M','S','S','S','M','M','L','L','L','M','M','L','L']\n",
    "y = [-1,-1,1,1,-1,-1,-1,1,1,1,1,1,1,1,-1]\n",
    "\n",
    "df = pd.DataFrame({'x1':x1, 'x2':x2, 'y':y})\n",
    "df.head()"
   ]
  },
  {
   "cell_type": "code",
   "execution_count": 3,
   "metadata": {},
   "outputs": [],
   "source": [
    "X = df[['x1', 'x2']]\n",
    "y = df[['y']]"
   ]
  },
  {
   "cell_type": "code",
   "execution_count": 6,
   "metadata": {},
   "outputs": [
    {
     "data": {
      "text/plain": [
       " 1    9\n",
       "-1    6\n",
       "Name: y, dtype: int64"
      ]
     },
     "execution_count": 6,
     "metadata": {},
     "output_type": "execute_result"
    }
   ],
   "source": [
    "y[y.columns[0]].value_counts()"
   ]
  },
  {
   "cell_type": "code",
   "execution_count": 9,
   "metadata": {},
   "outputs": [
    {
     "name": "stdout",
     "output_type": "stream",
     "text": [
      "x1\n",
      "x2\n"
     ]
    }
   ],
   "source": [
    "for col in X.columns:\n",
    "    print(col)"
   ]
  },
  {
   "cell_type": "code",
   "execution_count": 11,
   "metadata": {},
   "outputs": [
    {
     "data": {
      "text/plain": [
       "3    4\n",
       "2    3\n",
       "1    2\n",
       "Name: x1, dtype: int64"
      ]
     },
     "execution_count": 11,
     "metadata": {},
     "output_type": "execute_result"
    }
   ],
   "source": [
    "X[(y==1).values]['x1'].value_counts()"
   ]
  },
  {
   "cell_type": "code",
   "execution_count": 4,
   "metadata": {},
   "outputs": [],
   "source": [
    "def nb_fit(X, y):\n",
    "    classes = y[y.columns[0]].unique() #类别\n",
    "    class_count = y[y.columns[0]].value_counts() #1：9；-1：6\n",
    "    class_prior = class_count/len(y) #类别比例\n",
    "    \n",
    "    prior = dict()\n",
    "    for col in X.columns:\n",
    "        for j in classes:\n",
    "            p_x_y = X[(y==j).values][col].value_counts() #各个y值对应的各个feature的value_counts\n",
    "            for i in p_x_y.index:\n",
    "                prior[(col, i, j)] = p_x_y[i]/class_count[j]\n",
    "                #('x1', 1, -1): 0.5表示x1特征中取值为1且标签为-1的比例，每个col和j的加起来为1\n",
    "    return classes, class_prior, prior"
   ]
  },
  {
   "cell_type": "code",
   "execution_count": 7,
   "metadata": {},
   "outputs": [
    {
     "data": {
      "text/plain": [
       "(array([-1,  1], dtype=int64),\n",
       "  1    0.6\n",
       " -1    0.4\n",
       " Name: y, dtype: float64,\n",
       " {('x1', 1, -1): 0.5,\n",
       "  ('x1', 2, -1): 0.3333333333333333,\n",
       "  ('x1', 3, -1): 0.16666666666666666,\n",
       "  ('x1', 3, 1): 0.4444444444444444,\n",
       "  ('x1', 2, 1): 0.3333333333333333,\n",
       "  ('x1', 1, 1): 0.2222222222222222,\n",
       "  ('x2', 'S', -1): 0.5,\n",
       "  ('x2', 'M', -1): 0.3333333333333333,\n",
       "  ('x2', 'L', -1): 0.16666666666666666,\n",
       "  ('x2', 'L', 1): 0.4444444444444444,\n",
       "  ('x2', 'M', 1): 0.4444444444444444,\n",
       "  ('x2', 'S', 1): 0.1111111111111111})"
      ]
     },
     "execution_count": 7,
     "metadata": {},
     "output_type": "execute_result"
    }
   ],
   "source": [
    "nb_fit(X, y)"
   ]
  },
  {
   "cell_type": "code",
   "execution_count": 12,
   "metadata": {},
   "outputs": [],
   "source": [
    "def predict(X_test):\n",
    "    res = []\n",
    "    for c in classes:\n",
    "        p_y = class_prior[c]\n",
    "        p_x_y = 1\n",
    "        for i in X_test.items():\n",
    "            p_x_y *= prior[tuple(list(i)+[c])]\n",
    "        res.append(p_y*p_x_y) #p_x_y是上面公式右边的部分，p_y是左边的部分\n",
    "    return classes[np.argmax(res)]"
   ]
  },
  {
   "cell_type": "code",
   "execution_count": 15,
   "metadata": {},
   "outputs": [
    {
     "name": "stdout",
     "output_type": "stream",
     "text": [
      "['x1', 2]\n",
      "['x2', 'S']\n"
     ]
    }
   ],
   "source": [
    "for i in X_test.items():\n",
    "    print(list(i))"
   ]
  },
  {
   "cell_type": "code",
   "execution_count": 13,
   "metadata": {},
   "outputs": [
    {
     "name": "stdout",
     "output_type": "stream",
     "text": [
      "测试数据预测类别为： -1\n"
     ]
    }
   ],
   "source": [
    "X_test = {'x1': 2, 'x2': 'S'}\n",
    "classes, class_prior, prior = nb_fit(X, y)\n",
    "print('测试数据预测类别为：', predict(X_test))"
   ]
  },
  {
   "cell_type": "code",
   "execution_count": null,
   "metadata": {},
   "outputs": [],
   "source": []
  }
 ],
 "metadata": {
  "kernelspec": {
   "display_name": "Python 3",
   "language": "python",
   "name": "python3"
  },
  "language_info": {
   "codemirror_mode": {
    "name": "ipython",
    "version": 3
   },
   "file_extension": ".py",
   "mimetype": "text/x-python",
   "name": "python",
   "nbconvert_exporter": "python",
   "pygments_lexer": "ipython3",
   "version": "3.7.6"
  }
 },
 "nbformat": 4,
 "nbformat_minor": 4
}
